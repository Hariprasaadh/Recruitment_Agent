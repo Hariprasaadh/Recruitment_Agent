{
 "cells": [
  {
   "cell_type": "code",
   "execution_count": 55,
   "id": "1d7fa92f",
   "metadata": {},
   "outputs": [],
   "source": [
    "from langchain_groq import ChatGroq\n",
    "from langgraph.graph import StateGraph, START, END\n",
    "from typing_extensions import TypedDict\n",
    "from langchain_core.prompts import ChatPromptTemplate\n",
    "import os\n",
    "from dotenv import load_dotenv"
   ]
  },
  {
   "cell_type": "code",
   "execution_count": 56,
   "id": "9d16ee8b",
   "metadata": {},
   "outputs": [
    {
     "data": {
      "text/plain": [
       "True"
      ]
     },
     "execution_count": 56,
     "metadata": {},
     "output_type": "execute_result"
    }
   ],
   "source": [
    "load_dotenv()"
   ]
  },
  {
   "cell_type": "code",
   "execution_count": 57,
   "id": "da729114",
   "metadata": {},
   "outputs": [],
   "source": [
    "os.environ[\"GROQ_API_KEY\"] = os.getenv(\"GROQ_API_KEY\")"
   ]
  },
  {
   "cell_type": "code",
   "execution_count": 58,
   "id": "a015bb63",
   "metadata": {},
   "outputs": [],
   "source": [
    "llm = ChatGroq(\n",
    "    model=\"llama-3.3-70b-versatile\",\n",
    "    temperature=0.5,\n",
    "    max_retries=2,\n",
    ")"
   ]
  },
  {
   "cell_type": "code",
   "execution_count": 59,
   "id": "6869c4d1",
   "metadata": {},
   "outputs": [
    {
     "data": {
      "text/plain": [
       "AIMessage(content='The capital of France is Paris.', additional_kwargs={}, response_metadata={'token_usage': {'completion_tokens': 8, 'prompt_tokens': 42, 'total_tokens': 50, 'completion_time': 0.01162096, 'prompt_time': 0.0023011, 'queue_time': 0.05338474, 'total_time': 0.01392206}, 'model_name': 'llama-3.3-70b-versatile', 'system_fingerprint': 'fp_3f3b593e33', 'finish_reason': 'stop', 'logprobs': None}, id='run-13bf7c23-1334-4bb4-b2cd-0a0a5029e5ec-0', usage_metadata={'input_tokens': 42, 'output_tokens': 8, 'total_tokens': 50})"
      ]
     },
     "execution_count": 59,
     "metadata": {},
     "output_type": "execute_result"
    }
   ],
   "source": [
    "llm.invoke(\"What is the capital of France?\")"
   ]
  },
  {
   "cell_type": "code",
   "execution_count": 60,
   "id": "590ee7b4",
   "metadata": {},
   "outputs": [],
   "source": [
    "# Define GraphState\n",
    "class GraphState(TypedDict):\n",
    "    application: str\n",
    "    experience_level: str\n",
    "    skill_match: str\n",
    "    response: str"
   ]
  },
  {
   "cell_type": "code",
   "execution_count": 61,
   "id": "80caa5d7",
   "metadata": {},
   "outputs": [],
   "source": [
    "workflow = StateGraph(GraphState)"
   ]
  },
  {
   "cell_type": "code",
   "execution_count": 62,
   "id": "7f7f57dd",
   "metadata": {},
   "outputs": [],
   "source": [
    "def categorize_experience(state: GraphState) -> GraphState:\n",
    "    print(\"\\n Categorizing experience level of candidate\")\n",
    "    prompt = ChatPromptTemplate.from_template(\n",
    "        \"Based on the following Job Application, categorize the candidate as 'Entry Level', 'Mid Level' or 'Senior Level' \"\n",
    "        \"Application: {application}\")\n",
    "    \n",
    "    chain = prompt | llm\n",
    "    experience_level = chain.invoke({\"application\":state[\"application\"]}).content\n",
    "    return {\"experience_level\": experience_level}"
   ]
  },
  {
   "cell_type": "code",
   "execution_count": 63,
   "id": "7a77236e",
   "metadata": {},
   "outputs": [],
   "source": [
    "def assess_skills(state: GraphState) -> GraphState:\n",
    "    \"\"\"Assess the skills of the candidate\"\"\"\n",
    "    prompt = ChatPromptTemplate.from_template(\n",
    "        \"Based on the Job Application for a Python Developer, assess the candidate's skillset\"\n",
    "        \"Respond with either 'Match' or 'No Match'\"\n",
    "        \"Application: {application}\")\n",
    "    \n",
    "    chain = prompt | llm\n",
    "    skill_match = chain.invoke({\"application\":state[\"application\"]}).content\n",
    "    return {\"skill_match\": skill_match}"
   ]
  },
  {
   "cell_type": "code",
   "execution_count": 64,
   "id": "d2d4a30e",
   "metadata": {},
   "outputs": [],
   "source": [
    "def schedule_interview(state: GraphState) -> GraphState:\n",
    "    \"\"\"Schedule an interview with a candidate.\"\"\"\n",
    "    print(\"\\n Scheduling interview with candidate\")\n",
    "    return {'response' : 'Candidate has been shortlisted for an interview'}\n",
    "\n",
    "\n",
    "def escalate_to_recruiter(state: GraphState) -> GraphState:\n",
    "    \"\"\"Escalate to a recruiter.\"\"\"\n",
    "    print(\"\\n Escalating to a recruiter\")\n",
    "    return {'response' : 'Candidate has been escalated to a recruiter'}\n",
    "\n",
    "def reject_application(state: GraphState) -> GraphState:\n",
    "    \"\"\"Reject the application.\"\"\"\n",
    "    print(\"\\n Rejecting application\")\n",
    "    return {'response' : 'Candidate has been rejected'}"
   ]
  },
  {
   "cell_type": "code",
   "execution_count": 65,
   "id": "4639fa7b",
   "metadata": {},
   "outputs": [
    {
     "data": {
      "text/plain": [
       "<langgraph.graph.state.StateGraph at 0x11d29b93e20>"
      ]
     },
     "execution_count": 65,
     "metadata": {},
     "output_type": "execute_result"
    }
   ],
   "source": [
    "workflow.add_node(\n",
    "    \"categorize_experience\",\n",
    "    categorize_experience,\n",
    ")\n",
    "\n",
    "workflow.add_node(\n",
    "    \"assess_skillset\",\n",
    "    assess_skills,\n",
    ")\n",
    "\n",
    "workflow.add_node(\n",
    "    \"schedule_interview\",\n",
    "    schedule_interview,\n",
    ")\n",
    "\n",
    "workflow.add_node(\n",
    "    \"escalate_to_recruiter\",\n",
    "    escalate_to_recruiter,\n",
    ")\n",
    "\n",
    "workflow.add_node(\n",
    "    \"reject_application\",\n",
    "    reject_application,\n",
    ")"
   ]
  },
  {
   "cell_type": "code",
   "execution_count": 66,
   "id": "1a06fbbd",
   "metadata": {},
   "outputs": [],
   "source": [
    "def route_func(state: GraphState) -> str:\n",
    "    \"\"\"Route function for the graph state machine.\"\"\"\n",
    "    if(state['skill_match'] == 'Match'):\n",
    "        return 'schedule_interview'\n",
    "    elif(state['experience_level'] == 'Senior Level'):\n",
    "        return 'escalate_to_recruiter'\n",
    "    else:\n",
    "        return 'reject_application'"
   ]
  },
  {
   "cell_type": "code",
   "execution_count": 67,
   "id": "25ea3fc1",
   "metadata": {},
   "outputs": [
    {
     "data": {
      "text/plain": [
       "<langgraph.graph.state.StateGraph at 0x11d29b93e20>"
      ]
     },
     "execution_count": 67,
     "metadata": {},
     "output_type": "execute_result"
    }
   ],
   "source": [
    "workflow.add_edge(\"categorize_experience\", \"assess_skillset\")\n",
    "workflow.add_conditional_edges(\"assess_skillset\",route_func)"
   ]
  },
  {
   "cell_type": "code",
   "execution_count": 68,
   "id": "38e3e6a4",
   "metadata": {},
   "outputs": [
    {
     "data": {
      "text/plain": [
       "<langgraph.graph.state.StateGraph at 0x11d29b93e20>"
      ]
     },
     "execution_count": 68,
     "metadata": {},
     "output_type": "execute_result"
    }
   ],
   "source": [
    "workflow.add_edge(START, \"categorize_experience\")\n",
    "workflow.add_edge(\"assess_skillset\", END)\n",
    "workflow.add_edge(\"schedule_interview\", END)\n",
    "workflow.add_edge(\"escalate_to_recruiter\", END)\n",
    "workflow.add_edge(\"reject_application\", END)"
   ]
  },
  {
   "cell_type": "code",
   "execution_count": 69,
   "id": "9edb5002",
   "metadata": {},
   "outputs": [],
   "source": [
    "app = workflow.compile()"
   ]
  },
  {
   "cell_type": "code",
   "execution_count": 70,
   "id": "bdfe15ba",
   "metadata": {},
   "outputs": [
    {
     "data": {
      "image/png": "[encoded data removed]",
      "text/plain": [
       "<IPython.core.display.Image object>"
      ]
     },
     "metadata": {},
     "output_type": "display_data"
    }
   ],
   "source": [
    "from IPython.display import Image, display\n",
    "display(Image(app.get_graph().draw_mermaid_png()))"
   ]
  },
  {
   "cell_type": "code",
   "execution_count": 71,
   "id": "bad376cf",
   "metadata": {},
   "outputs": [],
   "source": [
    "def run_candidate_screening(application: str):\n",
    "    results = app.invoke({\"application\": application})\n",
    "    return {\n",
    "        \"application\": application,\n",
    "        \"experience_level\": results[\"experience_level\"],\n",
    "        \"skill_match\": results[\"skill_match\"],\n",
    "        \"response\": results[\"response\"]\n",
    "    }"
   ]
  },
  {
   "cell_type": "code",
   "execution_count": 72,
   "id": "337aefef",
   "metadata": {},
   "outputs": [
    {
     "name": "stdout",
     "output_type": "stream",
     "text": [
      "\n",
      " Categorizing experience level of candidate\n",
      "\n",
      " Scheduling interview with candidate\n",
      "{'application': 'I have 10 years of experience as a Python Developer and I can write clean code.', 'experience_level': \"Based on the provided information, I would categorize the candidate as 'Senior Level'. \\n\\nThe candidate has 10 years of experience as a Python Developer, which suggests a high level of expertise and maturity in their field. Typically, senior-level positions require at least 8-10 years of experience, and the candidate meets this criterion.\", 'skill_match': 'Match', 'response': 'Candidate has been shortlisted for an interview'}\n"
     ]
    }
   ],
   "source": [
    "application_text = \"I have 10 years of experience as a Python Developer and I can write clean code.\"\n",
    "results = run_candidate_screening(application_text)\n",
    "print(results)"
   ]
  },
  {
   "cell_type": "code",
   "execution_count": null,
   "id": "33acad34",
   "metadata": {},
   "outputs": [],
   "source": []
  }
 ],
 "metadata": {
  "kernelspec": {
   "display_name": "Python 3",
   "language": "python",
   "name": "python3"
  },
  "language_info": {
   "codemirror_mode": {
    "name": "ipython",
    "version": 3
   },
   "file_extension": ".py",
   "mimetype": "text/x-python",
   "name": "python",
   "nbconvert_exporter": "python",
   "pygments_lexer": "ipython3",
   "version": "3.10.16"
  }
 },
 "nbformat": 4,
 "nbformat_minor": 5
}
