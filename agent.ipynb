{
 "cells": [
  {
   "cell_type": "code",
   "execution_count": 22,
   "id": "1d7fa92f",
   "metadata": {},
   "outputs": [],
   "source": [
    "from langchain_groq import ChatGroq\n",
    "from langgraph.graph import StateGraph, START, END\n",
    "from typing_extensions import TypedDict\n",
    "from langchain_core.prompts import ChatPromptTemplate\n",
    "import PyPDF2\n",
    "import os\n",
    "from dotenv import load_dotenv\n",
    "import smtplib\n",
    "from email.mime.text import MIMEText\n",
    "from email.mime.multipart import MIMEMultipart"
   ]
  },
  {
   "cell_type": "code",
   "execution_count": 23,
   "id": "9d16ee8b",
   "metadata": {},
   "outputs": [
    {
     "data": {
      "text/plain": [
       "True"
      ]
     },
     "execution_count": 23,
     "metadata": {},
     "output_type": "execute_result"
    }
   ],
   "source": [
    "load_dotenv()"
   ]
  },
  {
   "cell_type": "code",
   "execution_count": 24,
   "id": "da729114",
   "metadata": {},
   "outputs": [],
   "source": [
    "os.environ[\"GROQ_API_KEY\"] = os.getenv(\"GROQ_API_KEY\")\n",
    "EMAIL_SENDER = os.getenv(\"EMAIL_SENDER\")\n",
    "EMAIL_PASSWORD = os.getenv(\"EMAIL_PASSWORD\")  \n",
    "SMTP_SERVER = os.getenv(\"SMTP_SERVER\", \"smtp.gmail.com\")\n",
    "SMTP_PORT = int(os.getenv(\"SMTP_PORT\", 587))"
   ]
  },
  {
   "cell_type": "code",
   "execution_count": 25,
   "id": "a015bb63",
   "metadata": {},
   "outputs": [],
   "source": [
    "llm = ChatGroq(\n",
    "    model=\"llama-3.3-70b-versatile\",\n",
    "    temperature=0.3,\n",
    "    max_retries=2,\n",
    ")"
   ]
  },
  {
   "cell_type": "code",
   "execution_count": 26,
   "id": "6869c4d1",
   "metadata": {},
   "outputs": [
    {
     "data": {
      "text/plain": [
       "AIMessage(content='The capital of France is Paris.', additional_kwargs={}, response_metadata={'token_usage': {'completion_tokens': 8, 'prompt_tokens': 42, 'total_tokens': 50, 'completion_time': 0.007409188, 'prompt_time': 0.008640977, 'queue_time': 0.058116226, 'total_time': 0.016050165}, 'model_name': 'llama-3.3-70b-versatile', 'system_fingerprint': 'fp_9a8b91ba77', 'finish_reason': 'stop', 'logprobs': None}, id='run-4bed083f-c9f0-4f70-97fd-b221751ad577-0', usage_metadata={'input_tokens': 42, 'output_tokens': 8, 'total_tokens': 50})"
      ]
     },
     "execution_count": 26,
     "metadata": {},
     "output_type": "execute_result"
    }
   ],
   "source": [
    "llm.invoke(\"What is the capital of France?\")"
   ]
  },
  {
   "cell_type": "code",
   "execution_count": 27,
   "id": "0944311f",
   "metadata": {},
   "outputs": [],
   "source": [
    "JOB_DESCRIPTION = \"\"\"\n",
    "Python Developer Position\n",
    "Requirements:\n",
    "- 5+ years of professional Python development experience\n",
    "- Strong proficiency in Python 3.x, Django/Flask, and SQL databases\n",
    "- Experience with RESTful APIs and microservices architecture\n",
    "- Familiarity with cloud platforms (AWS/GCP/Azure)\n",
    "- Strong problem-solving skills and unit testing experience\n",
    "- Excellent communication skills\n",
    "Preferred:\n",
    "- Experience with Docker and Kubernetes\n",
    "- Knowledge of CI/CD pipelines\n",
    "- Bachelor's degree in Computer Science or related field\n",
    "\"\"\""
   ]
  },
  {
   "cell_type": "code",
   "execution_count": 28,
   "id": "590ee7b4",
   "metadata": {},
   "outputs": [],
   "source": [
    "# Define GraphState\n",
    "class GraphState(TypedDict):\n",
    "    application: str\n",
    "    job_description: str\n",
    "    candidate_email: str\n",
    "    experience_level: str\n",
    "    skill_match: str\n",
    "    response: str\n",
    "    extracted_resume: str"
   ]
  },
  {
   "cell_type": "code",
   "execution_count": 29,
   "id": "ad3b162b",
   "metadata": {},
   "outputs": [],
   "source": [
    "def extract_resume_text(pdf_file_path: str) -> str:\n",
    "    \"\"\"Extract text from a PDF resume.\"\"\"\n",
    "    try:\n",
    "        with open(pdf_file_path, 'rb') as file:\n",
    "            pdf_reader = PyPDF2.PdfReader(file)\n",
    "            text = \"\"\n",
    "            for page in pdf_reader.pages:\n",
    "                text += page.extract_text() + \"\\n\"\n",
    "            return text.strip()\n",
    "    except Exception as e:\n",
    "        return f\"Error reading PDF: {str(e)}\""
   ]
  },
  {
   "cell_type": "code",
   "execution_count": 30,
   "id": "7da8b8e7",
   "metadata": {},
   "outputs": [],
   "source": [
    "def send_email(to_email: str, subject: str, body: str) -> bool:\n",
    "    \"\"\"Send an email to the candidate with the screening response.\"\"\"\n",
    "    try:\n",
    "        msg = MIMEMultipart()\n",
    "        msg['From'] = EMAIL_SENDER\n",
    "        msg['To'] = to_email\n",
    "        msg['Subject'] = subject\n",
    "        msg.attach(MIMEText(body, 'plain'))\n",
    "\n",
    "        with smtplib.SMTP(SMTP_SERVER, SMTP_PORT) as server:\n",
    "            server.starttls()\n",
    "            server.login(EMAIL_SENDER, EMAIL_PASSWORD)\n",
    "            server.send_message(msg)\n",
    "        print(f\"Email sent to {to_email}\")\n",
    "        return True\n",
    "    except Exception as e:\n",
    "        print(f\"Error sending email: {str(e)}\")\n",
    "        return False"
   ]
  },
  {
   "cell_type": "code",
   "execution_count": 31,
   "id": "7f7f57dd",
   "metadata": {},
   "outputs": [],
   "source": [
    "def categorize_experience(state: GraphState) -> GraphState:\n",
    "    \"\"\"Categorize candidate's experience level based on resume and job description.\"\"\"\n",
    "\n",
    "    print(\"\\nCategorizing experience level of candidate\")\n",
    "    prompt = ChatPromptTemplate.from_template(\n",
    "        \"\"\"Given the job description and candidate's resume, determine the candidate's experience level.\n",
    "        Job Description: {job_description}\n",
    "        Resume: {application}\n",
    "        \n",
    "        Analyze years of experience, roles, and responsibilities to categorize as:\n",
    "        - Entry Level \n",
    "        - Mid Level \n",
    "        - Senior Level \n",
    "        \n",
    "        Just output only the categorization. Do not include any other text.\"\"\"\n",
    "    )\n",
    "\n",
    "    chain = prompt | llm\n",
    "    experience_level = chain.invoke({\n",
    "        \"job_description\": state[\"job_description\"],\n",
    "        \"application\": state[\"extracted_resume\"]\n",
    "    }).content.strip().split('\\n')[-1]\n",
    "    \n",
    "    return {\"experience_level\": experience_level}"
   ]
  },
  {
   "cell_type": "code",
   "execution_count": 32,
   "id": "7a77236e",
   "metadata": {},
   "outputs": [],
   "source": [
    "def assess_skills(state: GraphState) -> GraphState:\n",
    "    \"\"\"Assess candidate's skills against job requirements.\"\"\"\n",
    "    print(\"\\nAssessing candidate skills\")\n",
    "\n",
    "    prompt = ChatPromptTemplate.from_template(\n",
    "        \"\"\"Compare the candidate's resume with the job description and assess skill compatibility.\n",
    "        Job Description: {job_description}\n",
    "        Resume: {application}\n",
    "        \n",
    "        Evaluate based on:\n",
    "        - Required technical skills (Experience, frameworks, databases, etc.)\n",
    "        - Preferred skills\n",
    "        - Relevant project experience\n",
    "        - Education qualifications\n",
    "        \n",
    "        Provide a brief explanation and return 'Match' if the candidate meets more than 75percent of requirements,\n",
    "        'Partial Match' if 40-75 percent of requirements are met, or 'No Match' if below 40 percent.\n",
    "\n",
    "        Return only the match level (Match, Partial Match, or No Match).\"\"\"\n",
    "    )\n",
    "    \n",
    "    chain = prompt | llm\n",
    "    skill_match = chain.invoke({\n",
    "        \"job_description\": state[\"job_description\"],\n",
    "        \"application\": state[\"extracted_resume\"]\n",
    "    }).content.strip().split('\\n')[-1]\n",
    "    return {\"skill_match\": skill_match}"
   ]
  },
  {
   "cell_type": "code",
   "execution_count": 33,
   "id": "d2d4a30e",
   "metadata": {},
   "outputs": [],
   "source": [
    "def schedule_interview(state: GraphState) -> GraphState:\n",
    "    \"\"\"Schedule an interview and notify candidate via email.\"\"\"\n",
    "\n",
    "    print(\"\\nScheduling interview with candidate\")\n",
    "    response = \"Candidate has been shortlisted for an interview. Recommended for technical interview round.\"\n",
    "    email_body = f\"\"\"Dear Candidate,\n",
    "\n",
    "    Thank you for applying for the Python Developer position. Based on our review of your resume, we are pleased to invite you for a technical interview.\n",
    "\n",
    "    Next Steps:\n",
    "    - Our HR team will contact you within 2-3 business days to schedule the interview.\n",
    "    - Please prepare to discuss your experience with Python, Django/Flask, and cloud platforms.\n",
    "\n",
    "    Best regards,\n",
    "    Hiring Team\n",
    "    \"\"\"\n",
    "    \n",
    "    send_email(state[\"candidate_email\"], \"Interview Invitation - Python Developer Position\", email_body)\n",
    "    return {'response': response}\n"
   ]
  },
  {
   "cell_type": "code",
   "execution_count": 34,
   "id": "b1398899",
   "metadata": {},
   "outputs": [],
   "source": [
    "def escalate_to_recruiter(state: GraphState) -> GraphState:\n",
    "    \"\"\"Escalate to a recruiter for senior candidates and notify candidate.\"\"\"\n",
    "\n",
    "    print(\"\\nEscalating to a recruiter\")\n",
    "    response = \"Candidate has been escalated to a recruiter for further review.\"\n",
    "    email_body = f\"\"\"Dear Candidate,\n",
    "\n",
    "    Thank you for applying for the Python Developer position. Your application has been escalated to our senior recruitment team for further review due to your matching skills and experience.\n",
    "\n",
    "    Next Steps:\n",
    "    - A senior recruiter will reach out within 3-5 business days to discuss potential opportunities.\n",
    "    - Please feel free to contact us if you have any questions.\n",
    "\n",
    "    Best regards,\n",
    "    Hiring Team\n",
    "    \"\"\"\n",
    "    send_email(state[\"candidate_email\"], \"Application Update - Python Developer Position\", email_body)\n",
    "    return {'response': response}"
   ]
  },
  {
   "cell_type": "code",
   "execution_count": 35,
   "id": "6c799da6",
   "metadata": {},
   "outputs": [],
   "source": [
    "def reject_application(state: GraphState) -> GraphState:\n",
    "    \"\"\"Reject the application and notify candidate.\"\"\"\n",
    "\n",
    "    print(\"\\nRejecting application\")\n",
    "    response = \"Candidate does not meet the minimum requirements for the position.\"\n",
    "    email_body = f\"\"\"Dear Candidate,\n",
    "\n",
    "    Thank you for applying for the Python Developer position. After careful consideration, we have determined that your qualifications do not fully meet the requirements for this role.\n",
    "\n",
    "    We appreciate your interest and encourage you to apply for other positions that align with your skills and experience.\n",
    "\n",
    "    Best regards,\n",
    "    Hiring Team\n",
    "    \"\"\"\n",
    "    \n",
    "    send_email(state[\"candidate_email\"], \"Application Update - Python Developer Position\", email_body)\n",
    "    return {'response': response}\n"
   ]
  },
  {
   "cell_type": "code",
   "execution_count": 36,
   "id": "46d751a9",
   "metadata": {},
   "outputs": [],
   "source": [
    "# Initialize workflow\n",
    "workflow = StateGraph(GraphState)"
   ]
  },
  {
   "cell_type": "code",
   "execution_count": 37,
   "id": "4639fa7b",
   "metadata": {},
   "outputs": [
    {
     "data": {
      "text/plain": [
       "<langgraph.graph.state.StateGraph at 0x244496bbaf0>"
      ]
     },
     "execution_count": 37,
     "metadata": {},
     "output_type": "execute_result"
    }
   ],
   "source": [
    "# Add nodes\n",
    "workflow.add_node(\"extract_resume\", lambda state: {\"extracted_resume\": extract_resume_text(state[\"application\"])})\n",
    "workflow.add_node(\"categorize_experience\", categorize_experience)\n",
    "workflow.add_node(\"assess_skillset\", assess_skills)\n",
    "workflow.add_node(\"schedule_interview\", schedule_interview)\n",
    "workflow.add_node(\"escalate_to_recruiter\", escalate_to_recruiter)\n",
    "workflow.add_node(\"reject_application\", reject_application)"
   ]
  },
  {
   "cell_type": "code",
   "execution_count": 38,
   "id": "1a06fbbd",
   "metadata": {},
   "outputs": [],
   "source": [
    "def route_func(state: GraphState) -> str:\n",
    "    \"\"\"Route based on skill match and experience level.\"\"\"\n",
    "    if state['skill_match'] == 'Match':\n",
    "        return 'schedule_interview'\n",
    "    elif state['skill_match'] == 'Partial Match' or state['experience_level'] == 'Senior Level':\n",
    "        return 'escalate_to_recruiter'\n",
    "    else:\n",
    "        return 'reject_application'"
   ]
  },
  {
   "cell_type": "code",
   "execution_count": 39,
   "id": "38e3e6a4",
   "metadata": {},
   "outputs": [
    {
     "data": {
      "text/plain": [
       "<langgraph.graph.state.StateGraph at 0x244496bbaf0>"
      ]
     },
     "execution_count": 39,
     "metadata": {},
     "output_type": "execute_result"
    }
   ],
   "source": [
    "# Define edges\n",
    "workflow.add_edge(START, \"extract_resume\")\n",
    "workflow.add_edge(\"extract_resume\", \"categorize_experience\")\n",
    "workflow.add_edge(\"categorize_experience\", \"assess_skillset\")\n",
    "workflow.add_conditional_edges(\"assess_skillset\", route_func)\n",
    "workflow.add_edge(\"schedule_interview\", END)\n",
    "workflow.add_edge(\"escalate_to_recruiter\", END)\n",
    "workflow.add_edge(\"reject_application\", END)"
   ]
  },
  {
   "cell_type": "code",
   "execution_count": 40,
   "id": "9edb5002",
   "metadata": {},
   "outputs": [],
   "source": [
    "# Compile workflow\n",
    "app = workflow.compile()"
   ]
  },
  {
   "cell_type": "code",
   "execution_count": 41,
   "id": "bdfe15ba",
   "metadata": {},
   "outputs": [
    {
     "data": {
      "image/png": "[encoded data removed]",
      "text/plain": [
       "<IPython.core.display.Image object>"
      ]
     },
     "metadata": {},
     "output_type": "display_data"
    }
   ],
   "source": [
    "from IPython.display import Image, display\n",
    "display(Image(app.get_graph().draw_mermaid_png()))"
   ]
  },
  {
   "cell_type": "code",
   "execution_count": 42,
   "id": "bad376cf",
   "metadata": {},
   "outputs": [],
   "source": [
    "def run_candidate_screening(pdf_path: str, candidate_email: str, job_description: str = JOB_DESCRIPTION):\n",
    "    \"\"\"Run the candidate screening process with a PDF resume and send email notification.\"\"\"\n",
    "    results = app.invoke({\n",
    "        \"application\": pdf_path,\n",
    "        \"job_description\": job_description,\n",
    "        \"candidate_email\": candidate_email\n",
    "    })\n",
    "    return {\n",
    "        \"resume_path\": pdf_path,\n",
    "        \"candidate_email\": candidate_email,\n",
    "        \"extracted_resume\": results[\"extracted_resume\"],\n",
    "        \"experience_level\": results[\"experience_level\"],\n",
    "        \"skill_match\": results[\"skill_match\"],\n",
    "        \"response\": results[\"response\"]\n",
    "    }"
   ]
  },
  {
   "cell_type": "code",
   "execution_count": 43,
   "id": "337aefef",
   "metadata": {},
   "outputs": [
    {
     "name": "stdout",
     "output_type": "stream",
     "text": [
      "\n",
      "Categorizing experience level of candidate\n",
      "\n",
      "Assessing candidate skills\n",
      "\n",
      "Escalating to a recruiter\n",
      "Email sent to hariprasaadh2005@gmail.com\n",
      "\n",
      "Screening Results:\n",
      "Resume: Personal_Resume.pdf\n",
      "Candidate Email: hariprasaadh2005@gmail.com\n",
      "Experience Level: Entry Level\n",
      "Skill Match: Partial Match\n",
      "Response: Candidate has been escalated to a recruiter for further review.\n"
     ]
    }
   ],
   "source": [
    "if __name__ == \"__main__\":\n",
    "\n",
    "    pdf_path = \"Personal_Resume.pdf\"\n",
    "    candidate_email = \"hariprasaadh2005@gmail.com\"\n",
    "    try:\n",
    "        results = run_candidate_screening(pdf_path, candidate_email)\n",
    "        print(\"\\nScreening Results:\")\n",
    "        print(f\"Resume: {results['resume_path']}\")\n",
    "        print(f\"Candidate Email: {results['candidate_email']}\")\n",
    "        print(f\"Experience Level: {results['experience_level']}\")\n",
    "        print(f\"Skill Match: {results['skill_match']}\")\n",
    "        print(f\"Response: {results['response']}\")\n",
    "    except Exception as e:\n",
    "        print(f\"Error processing resume: {str(e)}\")"
   ]
  },
  {
   "cell_type": "code",
   "execution_count": null,
   "id": "33acad34",
   "metadata": {},
   "outputs": [],
   "source": []
  }
 ],
 "metadata": {
  "kernelspec": {
   "display_name": "Python 3",
   "language": "python",
   "name": "python3"
  },
  "language_info": {
   "codemirror_mode": {
    "name": "ipython",
    "version": 3
   },
   "file_extension": ".py",
   "mimetype": "text/x-python",
   "name": "python",
   "nbconvert_exporter": "python",
   "pygments_lexer": "ipython3",
   "version": "3.10.16"
  }
 },
 "nbformat": 4,
 "nbformat_minor": 5
}
